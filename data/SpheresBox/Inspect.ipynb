{
 "cells": [
  {
   "cell_type": "code",
   "execution_count": 1,
   "id": "57f0748f",
   "metadata": {},
   "outputs": [],
   "source": [
    "import numpy as np\n",
    "data = np.load('train.npz', allow_pickle=True)"
   ]
  },
  {
   "cell_type": "code",
   "execution_count": 2,
   "id": "5c655dd2",
   "metadata": {},
   "outputs": [
    {
     "data": {
      "text/plain": [
       "['simulation_trajectory_0',\n",
       " 'simulation_trajectory_1',\n",
       " 'simulation_trajectory_2',\n",
       " 'simulation_trajectory_3',\n",
       " 'simulation_trajectory_4',\n",
       " 'simulation_trajectory_5']"
      ]
     },
     "execution_count": 2,
     "metadata": {},
     "output_type": "execute_result"
    }
   ],
   "source": [
    "data.files"
   ]
  },
  {
   "cell_type": "code",
   "execution_count": 3,
   "id": "aa518d5b",
   "metadata": {},
   "outputs": [],
   "source": [
    "ds = data['simulation_trajectory_0']"
   ]
  },
  {
   "cell_type": "code",
   "execution_count": 4,
   "id": "5b029f3c",
   "metadata": {},
   "outputs": [
    {
     "data": {
      "text/plain": [
       "(2,)"
      ]
     },
     "execution_count": 4,
     "metadata": {},
     "output_type": "execute_result"
    }
   ],
   "source": [
    "ds.shape"
   ]
  },
  {
   "cell_type": "code",
   "execution_count": 5,
   "id": "36fe14af",
   "metadata": {},
   "outputs": [
    {
     "data": {
      "text/plain": [
       "(1000, 18, 2)"
      ]
     },
     "execution_count": 5,
     "metadata": {},
     "output_type": "execute_result"
    }
   ],
   "source": [
    "ds[0].shape"
   ]
  },
  {
   "cell_type": "code",
   "execution_count": 6,
   "id": "b5e3260f",
   "metadata": {},
   "outputs": [
    {
     "data": {
      "text/plain": [
       "10"
      ]
     },
     "execution_count": 6,
     "metadata": {},
     "output_type": "execute_result"
    }
   ],
   "source": [
    "np.random.randint(10,20,1).item()"
   ]
  },
  {
   "cell_type": "code",
   "execution_count": 7,
   "id": "7d54a8b8",
   "metadata": {},
   "outputs": [
    {
     "name": "stdout",
     "output_type": "stream",
     "text": [
      "(1000, 18, 2)\n",
      "(1000, 15, 2)\n",
      "(1000, 19, 2)\n",
      "(1000, 17, 2)\n",
      "(1000, 16, 2)\n",
      "(1000, 19, 2)\n"
     ]
    }
   ],
   "source": [
    "for idx in range(6):\n",
    "    print(data[f'simulation_trajectory_{idx}'][0].shape)"
   ]
  },
  {
   "cell_type": "code",
   "execution_count": 8,
   "id": "2049ebba",
   "metadata": {},
   "outputs": [
    {
     "data": {
      "text/plain": [
       "array([5, 5, 5, 5, 5, 5, 5, 5, 5, 5, 5, 5, 5, 5, 5, 5, 5, 5], dtype=int32)"
      ]
     },
     "execution_count": 8,
     "metadata": {},
     "output_type": "execute_result"
    }
   ],
   "source": [
    "ds[1]"
   ]
  },
  {
   "cell_type": "code",
   "execution_count": null,
   "id": "cf5e2592",
   "metadata": {},
   "outputs": [],
   "source": []
  }
 ],
 "metadata": {
  "kernelspec": {
   "display_name": "Python 3 (ipykernel)",
   "language": "python",
   "name": "python3"
  },
  "language_info": {
   "codemirror_mode": {
    "name": "ipython",
    "version": 3
   },
   "file_extension": ".py",
   "mimetype": "text/x-python",
   "name": "python",
   "nbconvert_exporter": "python",
   "pygments_lexer": "ipython3",
   "version": "3.8.10"
  }
 },
 "nbformat": 4,
 "nbformat_minor": 5
}
